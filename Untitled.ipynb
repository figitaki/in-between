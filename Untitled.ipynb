{
 "cells": [
  {
   "cell_type": "code",
   "execution_count": 1,
   "id": "d2d9276d",
   "metadata": {},
   "outputs": [],
   "source": [
    "from in_between import Game, Player, Suit, Rank, Card, Strategy;"
   ]
  },
  {
   "cell_type": "code",
   "execution_count": 3,
   "id": "fcb85d69",
   "metadata": {},
   "outputs": [
    {
     "data": {
      "text/plain": [
       "\n",
       "            Pot: $0\n",
       "            Round  # : 100\n",
       "            Turn: 21\n",
       "            Players: [ Purse: $185,  Purse: $-9,  Purse: $124]\n",
       "            Hand: (JACK of CLUBS , TWO of SPADES )\n",
       "            Remaining Cards: 7\n",
       "            Min Bet: 1"
      ]
     },
     "execution_count": 3,
     "metadata": {},
     "output_type": "execute_result"
    }
   ],
   "source": [
    "game = Game();\n",
    "game.players = [Player(100, Strategy.AGGRESSIVE), Player(100, Strategy.MINIMUM), Player(100, Strategy.AGGRESSIVE)]\n",
    "game.play(100);\n",
    "game"
   ]
  },
  {
   "cell_type": "code",
   "execution_count": 12,
   "id": "943dfdb7",
   "metadata": {},
   "outputs": [],
   "source": [
    "values = [];\n",
    "game = Game();\n",
    "game.players = [Player(100, Strategy.AGGRESSIVE), Player(100, Strategy.MINIMUM), Player(100, Strategy.AGGRESSIVE)]\n",
    "\n",
    "i = 0\n",
    "while i < 100:\n",
    "    game.update()\n",
    "    rnd = []\n",
    "    for player in game.players:\n",
    "        rnd.append(player.purse);\n",
    "    values.append(rnd)\n",
    "    i += 1\n"
   ]
  },
  {
   "cell_type": "code",
   "execution_count": 17,
   "id": "37cf99c4",
   "metadata": {},
   "outputs": [
    {
     "ename": "ModuleNotFoundError",
     "evalue": "No module named 'matplotlib'",
     "output_type": "error",
     "traceback": [
      "\u001b[0;31m---------------------------------------------------------------------------\u001b[0m",
      "\u001b[0;31mModuleNotFoundError\u001b[0m                       Traceback (most recent call last)",
      "Cell \u001b[0;32mIn[17], line 2\u001b[0m\n\u001b[1;32m      1\u001b[0m \u001b[38;5;28;01mimport\u001b[39;00m \u001b[38;5;21;01mnumpy\u001b[39;00m \u001b[38;5;28;01mas\u001b[39;00m \u001b[38;5;21;01mnp\u001b[39;00m\n\u001b[0;32m----> 2\u001b[0m \u001b[38;5;28;01mimport\u001b[39;00m \u001b[38;5;21;01mmatplotlib\u001b[39;00m\u001b[38;5;21;01m.\u001b[39;00m\u001b[38;5;21;01mpyplot\u001b[39;00m \u001b[38;5;28;01mas\u001b[39;00m \u001b[38;5;21;01mplt\u001b[39;00m\n\u001b[1;32m      3\u001b[0m plt\u001b[38;5;241m.\u001b[39mplot(values)\n",
      "\u001b[0;31mModuleNotFoundError\u001b[0m: No module named 'matplotlib'"
     ]
    }
   ],
   "source": [
    "import numpy as np\n",
    "import matplotlib.pyplot as plt\n",
    "\n",
    "plt.plot(values)"
   ]
  },
  {
   "cell_type": "code",
   "execution_count": 15,
   "id": "4eebf2d6",
   "metadata": {},
   "outputs": [
    {
     "data": {
      "text/plain": [
       "[[102, 99, 99],\n",
       " [101, 99, 100],\n",
       " [103, 98, 99],\n",
       " [100, 98, 102],\n",
       " [103, 96, 101],\n",
       " [105, 95, 100],\n",
       " [107, 94, 99],\n",
       " [108, 94, 98],\n",
       " [111, 92, 97],\n",
       " [110, 91, 99],\n",
       " [112, 90, 98],\n",
       " [123, 89, 88],\n",
       " [122, 88, 90],\n",
       " [124, 87, 89],\n",
       " [125, 87, 88],\n",
       " [121, 85, 94],\n",
       " [120, 85, 95],\n",
       " [119, 84, 97],\n",
       " [114, 84, 102],\n",
       " [113, 82, 105],\n",
       " [115, 81, 104],\n",
       " [113, 80, 107],\n",
       " [112, 79, 109],\n",
       " [114, 79, 107],\n",
       " [116, 78, 106],\n",
       " [121, 74, 105],\n",
       " [125, 74, 101],\n",
       " [128, 73, 99],\n",
       " [131, 72, 97],\n",
       " [130, 70, 100],\n",
       " [129, 68, 103],\n",
       " [132, 67, 101],\n",
       " [134, 66, 100],\n",
       " [133, 65, 102],\n",
       " [135, 64, 101],\n",
       " [134, 64, 102],\n",
       " [133, 63, 104],\n",
       " [139, 62, 99],\n",
       " [146, 60, 94],\n",
       " [148, 59, 93],\n",
       " [147, 59, 94],\n",
       " [143, 58, 99],\n",
       " [137, 55, 108],\n",
       " [136, 55, 109],\n",
       " [135, 53, 112],\n",
       " [131, 52, 117],\n",
       " [133, 51, 116],\n",
       " [146, 50, 104],\n",
       " [148, 49, 103],\n",
       " [155, 47, 98],\n",
       " [154, 46, 100],\n",
       " [163, 45, 92],\n",
       " [162, 45, 93],\n",
       " [157, 45, 98],\n",
       " [160, 44, 96],\n",
       " [156, 43, 101],\n",
       " [162, 40, 98],\n",
       " [161, 40, 99],\n",
       " [163, 39, 98],\n",
       " [175, 38, 87],\n",
       " [171, 36, 93],\n",
       " [164, 31, 105],\n",
       " [163, 27, 110],\n",
       " [149, 27, 124],\n",
       " [152, 26, 122],\n",
       " [138, 26, 136],\n",
       " [137, 25, 138],\n",
       " [135, 23, 142],\n",
       " [134, 21, 145],\n",
       " [136, 20, 144],\n",
       " [143, 18, 139],\n",
       " [131, 16, 153],\n",
       " [129, 16, 155],\n",
       " [128, 15, 157],\n",
       " [123, 14, 163],\n",
       " [125, 13, 162],\n",
       " [144, 8, 148],\n",
       " [146, 7, 147],\n",
       " [155, 4, 141],\n",
       " [149, 1, 150],\n",
       " [148, -1, 153],\n",
       " [151, -3, 152],\n",
       " [146, -4, 158],\n",
       " [123, -5, 182],\n",
       " [122, -7, 185],\n",
       " [126, -9, 183],\n",
       " [121, -9, 188],\n",
       " [123, -10, 187],\n",
       " [125, -11, 186],\n",
       " [127, -11, 184],\n",
       " [126, -12, 186],\n",
       " [124, -12, 188],\n",
       " [129, -13, 184],\n",
       " [131, -14, 183],\n",
       " [133, -15, 182],\n",
       " [139, -16, 177],\n",
       " [143, -18, 175],\n",
       " [142, -18, 176],\n",
       " [144, -19, 175],\n",
       " [146, -17, 171]]"
      ]
     },
     "execution_count": 15,
     "metadata": {},
     "output_type": "execute_result"
    }
   ],
   "source": [
    "values"
   ]
  }
 ],
 "metadata": {
  "kernelspec": {
   "display_name": "Python 3 (ipykernel)",
   "language": "python",
   "name": "python3"
  },
  "language_info": {
   "codemirror_mode": {
    "name": "ipython",
    "version": 3
   },
   "file_extension": ".py",
   "mimetype": "text/x-python",
   "name": "python",
   "nbconvert_exporter": "python",
   "pygments_lexer": "ipython3",
   "version": "3.11.9"
  }
 },
 "nbformat": 4,
 "nbformat_minor": 5
}
