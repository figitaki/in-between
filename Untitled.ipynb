{
 "cells": [
  {
   "cell_type": "code",
   "execution_count": 1,
   "id": "d2d9276d",
   "metadata": {},
   "outputs": [],
   "source": [
    "from in_between import Game, Player, Suit, Rank, Card, Strategy;"
   ]
  },
  {
   "cell_type": "code",
   "execution_count": 2,
   "id": "fcb85d69",
   "metadata": {},
   "outputs": [
    {
     "data": {
      "text/plain": [
       "\n",
       "            Pot: $0\n",
       "            Round  # : 100\n",
       "            Turn: 0\n",
       "            Players: [ Purse: $54,  Purse: $3,  Purse: $243]\n",
       "            Remaining Cards: 51\n",
       "            Min Bet: 1"
      ]
     },
     "execution_count": 2,
     "metadata": {},
     "output_type": "execute_result"
    }
   ],
   "source": [
    "game = Game();\n",
    "game.players = [Player(100, Strategy.AGGRESSIVE), Player(100, Strategy.MINIMUM), Player(100, Strategy.AGGRESSIVE)]\n",
    "game.play(100);\n",
    "game"
   ]
  },
  {
   "cell_type": "code",
   "execution_count": null,
   "id": "943dfdb7",
   "metadata": {},
   "outputs": [],
   "source": [
    "values = [];\n",
    "game = Game();\n",
    "game.players = [Player() for _ in range(1, 12)]\n",
    "\n",
    "i = 0\n",
    "while i < 100:\n",
    "    game.update()\n",
    "    rnd = []\n",
    "    for player in game.players:\n",
    "        rnd.append(player.purse);\n",
    "    values.append(rnd)\n",
    "    i += 1\n"
   ]
  },
  {
   "cell_type": "code",
   "execution_count": null,
   "id": "37cf99c4",
   "metadata": {},
   "outputs": [],
   "source": [
    "import numpy as np\n",
    "import matplotlib.pyplot as plt\n",
    "\n",
    "plt.plot(values)"
   ]
  },
  {
   "cell_type": "code",
   "execution_count": null,
   "id": "be0c0994",
   "metadata": {},
   "outputs": [],
   "source": [
    "len(values)"
   ]
  }
 ],
 "metadata": {
  "kernelspec": {
   "display_name": "Python 3 (ipykernel)",
   "language": "python",
   "name": "python3"
  },
  "language_info": {
   "codemirror_mode": {
    "name": "ipython",
    "version": 3
   },
   "file_extension": ".py",
   "mimetype": "text/x-python",
   "name": "python",
   "nbconvert_exporter": "python",
   "pygments_lexer": "ipython3",
   "version": "3.11.9"
  }
 },
 "nbformat": 4,
 "nbformat_minor": 5
}
