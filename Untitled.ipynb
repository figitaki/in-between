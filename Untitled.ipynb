{
 "cells": [
  {
   "cell_type": "code",
   "execution_count": 1,
   "id": "d2d9276d",
   "metadata": {},
   "outputs": [],
   "source": [
    "from in_between import Game, Player, Suit, Rank, Card, Strategy;"
   ]
  },
  {
   "cell_type": "code",
   "execution_count": 5,
   "id": "fcb85d69",
   "metadata": {},
   "outputs": [
    {
     "data": {
      "text/plain": [
       "\n",
       "            Pot: $0\n",
       "            Round  # : 0\n",
       "            Turn: 0\n",
       "            Players: [ Purse: $100,  Purse: $100]\n",
       "            Remaining Cards: 54\n",
       "            Min Bet: 1"
      ]
     },
     "execution_count": 5,
     "metadata": {},
     "output_type": "execute_result"
    }
   ],
   "source": [
    "game = Game();\n",
    "game.players = [Player(100, Strategy.SMART_LIN), Player(100, Strategy.SMART_EXP)]\n",
    "game"
   ]
  },
  {
   "cell_type": "code",
   "execution_count": 8,
   "id": "943dfdb7",
   "metadata": {},
   "outputs": [
    {
     "ename": "TypeError",
     "evalue": "'int' object is not iterable",
     "output_type": "error",
     "traceback": [
      "\u001b[0;31m---------------------------------------------------------------------------\u001b[0m",
      "\u001b[0;31mTypeError\u001b[0m                                 Traceback (most recent call last)",
      "Cell \u001b[0;32mIn[8], line 8\u001b[0m\n\u001b[1;32m      6\u001b[0m i \u001b[38;5;241m=\u001b[39m \u001b[38;5;241m0\u001b[39m\n\u001b[1;32m      7\u001b[0m \u001b[38;5;28;01mwhile\u001b[39;00m i \u001b[38;5;241m<\u001b[39m \u001b[38;5;241m2\u001b[39m:\n\u001b[0;32m----> 8\u001b[0m     \u001b[43mgame\u001b[49m\u001b[38;5;241;43m.\u001b[39;49m\u001b[43mupdate\u001b[49m\u001b[43m(\u001b[49m\u001b[43m)\u001b[49m\n\u001b[1;32m      9\u001b[0m     rnd \u001b[38;5;241m=\u001b[39m []\n\u001b[1;32m     10\u001b[0m     \u001b[38;5;28;01mfor\u001b[39;00m player \u001b[38;5;129;01min\u001b[39;00m game\u001b[38;5;241m.\u001b[39mplayers:\n",
      "File \u001b[0;32m~/src/in-between/in_between.py:235\u001b[0m, in \u001b[0;36mGame.update\u001b[0;34m(self)\u001b[0m\n\u001b[1;32m    233\u001b[0m \u001b[38;5;28;01mwhile\u001b[39;00m \u001b[38;5;129;01mnot\u001b[39;00m \u001b[38;5;28mself\u001b[39m\u001b[38;5;241m.\u001b[39mcheck_endgame():\n\u001b[1;32m    234\u001b[0m     \u001b[38;5;28;01mfor\u001b[39;00m player \u001b[38;5;129;01min\u001b[39;00m \u001b[38;5;28mself\u001b[39m\u001b[38;5;241m.\u001b[39mplayers:\n\u001b[0;32m--> 235\u001b[0m         \u001b[38;5;28;43mself\u001b[39;49m\u001b[38;5;241;43m.\u001b[39;49m\u001b[43mtake_turn\u001b[49m\u001b[43m(\u001b[49m\u001b[43mplayer\u001b[49m\u001b[43m)\u001b[49m\n\u001b[1;32m    236\u001b[0m         \u001b[38;5;28;01mif\u001b[39;00m \u001b[38;5;28mself\u001b[39m\u001b[38;5;241m.\u001b[39mcheck_endgame():\n\u001b[1;32m    237\u001b[0m             \u001b[38;5;28;01mreturn\u001b[39;00m\n",
      "File \u001b[0;32m~/src/in-between/in_between.py:288\u001b[0m, in \u001b[0;36mGame.take_turn\u001b[0;34m(self, player, first_card)\u001b[0m\n\u001b[1;32m    285\u001b[0m     \u001b[38;5;28;01mreturn\u001b[39;00m\n\u001b[1;32m    287\u001b[0m hand \u001b[38;5;241m=\u001b[39m (hand[\u001b[38;5;241m0\u001b[39m], card_two)\n\u001b[0;32m--> 288\u001b[0m bet \u001b[38;5;241m=\u001b[39m \u001b[43mplayer\u001b[49m\u001b[38;5;241;43m.\u001b[39;49m\u001b[43mdecide_bet\u001b[49m\u001b[43m(\u001b[49m\u001b[43mhand\u001b[49m\u001b[43m,\u001b[49m\u001b[43m \u001b[49m\u001b[38;5;28;43mself\u001b[39;49m\u001b[38;5;241;43m.\u001b[39;49m\u001b[43mpot\u001b[49m\u001b[43m,\u001b[49m\u001b[43m \u001b[49m\u001b[38;5;28;43mself\u001b[39;49m\u001b[38;5;241;43m.\u001b[39;49m\u001b[43mdeck\u001b[49m\u001b[43m)\u001b[49m\n\u001b[1;32m    289\u001b[0m \u001b[38;5;28;01mif\u001b[39;00m bet \u001b[38;5;129;01mis\u001b[39;00m \u001b[38;5;129;01mnot\u001b[39;00m \u001b[38;5;28;01mNone\u001b[39;00m:\n\u001b[1;32m    290\u001b[0m     in_between \u001b[38;5;241m=\u001b[39m deal_card()\n",
      "File \u001b[0;32m~/src/in-between/in_between.py:121\u001b[0m, in \u001b[0;36mPlayer.decide_bet\u001b[0;34m(self, hand, pot, deck)\u001b[0m\n\u001b[1;32m    119\u001b[0m \u001b[38;5;28;01mcase\u001b[39;00m Strategy\u001b[38;5;241m.\u001b[39mSMART_LIN:\n\u001b[1;32m    120\u001b[0m     outcomes \u001b[38;5;241m=\u001b[39m \u001b[38;5;241m0\u001b[39m\n\u001b[0;32m--> 121\u001b[0m     low \u001b[38;5;241m=\u001b[39m \u001b[38;5;28;43mmin\u001b[39;49m\u001b[43m(\u001b[49m\u001b[43mhand\u001b[49m\u001b[43m[\u001b[49m\u001b[38;5;241;43m0\u001b[39;49m\u001b[43m]\u001b[49m\u001b[38;5;241;43m.\u001b[39;49m\u001b[43mvalue\u001b[49m\u001b[43m(\u001b[49m\u001b[43m)\u001b[49m\u001b[43m)\u001b[49m\n\u001b[1;32m    122\u001b[0m     high \u001b[38;5;241m=\u001b[39m \u001b[38;5;28mmax\u001b[39m(hand[\u001b[38;5;241m1\u001b[39m]\u001b[38;5;241m.\u001b[39mvalue())\n\u001b[1;32m    123\u001b[0m     \u001b[38;5;28;01mfor\u001b[39;00m card \u001b[38;5;129;01min\u001b[39;00m deck:\n",
      "\u001b[0;31mTypeError\u001b[0m: 'int' object is not iterable"
     ]
    }
   ],
   "source": [
    "values = [];\n",
    "game = Game();\n",
    "\n",
    "game.players = [Player(100, Strategy.SMART_LIN), Player(100, Strategy.SMART_EXP)]\n",
    "\n",
    "i = 0\n",
    "while i < 2:\n",
    "    game.update()\n",
    "    rnd = []\n",
    "    for player in game.players:\n",
    "        rnd.append(player.purse);\n",
    "    values.append(rnd)\n",
    "    i += 1\n"
   ]
  },
  {
   "cell_type": "code",
   "execution_count": null,
   "id": "37cf99c4",
   "metadata": {},
   "outputs": [],
   "source": [
    "import numpy as np\n",
    "import matplotlib.pyplot as plt\n",
    "\n",
    "plt.plot(values)"
   ]
  },
  {
   "cell_type": "code",
   "execution_count": null,
   "id": "be0c0994",
   "metadata": {},
   "outputs": [],
   "source": [
    "len(values)"
   ]
  }
 ],
 "metadata": {
  "kernelspec": {
   "display_name": "Python 3 (ipykernel)",
   "language": "python",
   "name": "python3"
  },
  "language_info": {
   "codemirror_mode": {
    "name": "ipython",
    "version": 3
   },
   "file_extension": ".py",
   "mimetype": "text/x-python",
   "name": "python",
   "nbconvert_exporter": "python",
   "pygments_lexer": "ipython3",
   "version": "3.11.9"
  }
 },
 "nbformat": 4,
 "nbformat_minor": 5
}
